{
 "cells": [
  {
   "cell_type": "code",
   "execution_count": 18,
   "id": "3e8cd58d-ed93-4bdc-808c-22be0905078b",
   "metadata": {},
   "outputs": [],
   "source": [
    "import numpy as np\n",
    "import matplotlib.pyplot as plt\n",
    "import ipywidgets as widgets\n",
    "import ipyvuetify as v\n",
    "from IPython.display import display, clear_output"
   ]
  },
  {
   "cell_type": "code",
   "execution_count": 19,
   "id": "bf603aed-ec2d-4568-aace-9b323da32c27",
   "metadata": {},
   "outputs": [
    {
     "data": {
      "application/vnd.jupyter.widget-view+json": {
       "model_id": "211f433aa6e844ad8c7338100ad1c4ac",
       "version_major": 2,
       "version_minor": 0
      },
      "text/plain": [
       "Btn(children=['Generate'], class_='flex-grow-1', layout=None, outlined=True, style_='background-color: #F0F0F0…"
      ]
     },
     "metadata": {},
     "output_type": "display_data"
    },
    {
     "data": {
      "application/vnd.jupyter.widget-view+json": {
       "model_id": "8e97fb00ee4449ca99da30176101e854",
       "version_major": 2,
       "version_minor": 0
      },
      "text/plain": [
       "Output()"
      ]
     },
     "metadata": {},
     "output_type": "display_data"
    }
   ],
   "source": [
    "def fct_plot_display():\n",
    "    with output:\n",
    "        clear_output(wait=True)\n",
    "        x = np.linspace(0, 10, 100)\n",
    "        y = np.sin(x) + np.random.normal(0, 0.5, x.size)\n",
    "    \n",
    "        # Create a plot\n",
    "        plt.figure(figsize=(10, 6))\n",
    "        plt.plot(x,y)\n",
    "        plt.show()\n",
    "    \n",
    "def on_button_click(widget, event, data):\n",
    "    widget.v_model = not widget.v_model\n",
    "    widget.outlined = not widget.outlined\n",
    "    if widget.v_model:\n",
    "        widget.style_ = 'background-color: #0072BD; color: white;'\n",
    "        fct_plot_display()\n",
    "    else:\n",
    "        widget.style_ = 'background-color: #F0F0F0; color: black;'\n",
    "        fct_plot_display()\n",
    "\n",
    "GenBtn = v.Btn(v_model=False,children=['Generate'], class_='flex-grow-1',outlined=True,style_='background-color: #F0F0F0; color: black;')\n",
    "GenBtn.on_event('click', on_button_click)\n",
    "output = widgets.Output()\n",
    "display(GenBtn,output)"
   ]
  },
  {
   "cell_type": "code",
   "execution_count": null,
   "id": "0a08c1a8-9f62-4e85-add1-57feb786e5f6",
   "metadata": {},
   "outputs": [],
   "source": []
  }
 ],
 "metadata": {
  "kernelspec": {
   "display_name": "Python 3 (ipykernel)",
   "language": "python",
   "name": "python3"
  },
  "language_info": {
   "codemirror_mode": {
    "name": "ipython",
    "version": 3
   },
   "file_extension": ".py",
   "mimetype": "text/x-python",
   "name": "python",
   "nbconvert_exporter": "python",
   "pygments_lexer": "ipython3",
   "version": "3.11.9"
  }
 },
 "nbformat": 4,
 "nbformat_minor": 5
}
